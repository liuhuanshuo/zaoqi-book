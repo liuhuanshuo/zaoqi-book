{
 "cells": [
  {
   "cell_type": "markdown",
   "metadata": {},
   "source": [
    "# 数据预览"
   ]
  },
  {
   "cell_type": "markdown",
   "metadata": {},
   "source": [
    "```{admonition} 在线刷题\n",
    ":class: seealso\n",
    "\n",
    "检查 or 强化 `Pandas` 数据分析操作？<a href=\"https://www.heywhale.com/mw/project/6146c0318447b8001769ff20\" target=\"_blank\">👉在线体验「Pandas进阶修炼300题」</a>\n",
    "```"
   ]
  },
  {
   "cell_type": "markdown",
   "metadata": {},
   "source": [
    "```{note} \n",
    "本页面代码可以[在线编辑、执行](../指引/在线执行.md)！\n",
    "```"
   ]
  },
  {
   "cell_type": "markdown",
   "metadata": {},
   "source": [
    "## 本页数据说明\n",
    "\n",
    "为了更好的介绍相关操作，本页面使用 **豆瓣电影TOP250** 数据进行展开，你应该对数据**字段、数值、类型**等相关信息做一个大致了解！"
   ]
  },
  {
   "cell_type": "code",
   "execution_count": 1,
   "metadata": {
    "tags": [
     "thebe-init",
     "hide-input"
    ]
   },
   "outputs": [
    {
     "data": {
      "text/html": [
       "<div>\n",
       "<style scoped>\n",
       "    .dataframe tbody tr th:only-of-type {\n",
       "        vertical-align: middle;\n",
       "    }\n",
       "\n",
       "    .dataframe tbody tr th {\n",
       "        vertical-align: top;\n",
       "    }\n",
       "\n",
       "    .dataframe thead th {\n",
       "        text-align: right;\n",
       "    }\n",
       "</style>\n",
       "<table border=\"1\" class=\"dataframe\">\n",
       "  <thead>\n",
       "    <tr style=\"text-align: right;\">\n",
       "      <th></th>\n",
       "      <th>片名</th>\n",
       "      <th>上映年份</th>\n",
       "      <th>评分</th>\n",
       "      <th>评价人数</th>\n",
       "      <th>导演</th>\n",
       "      <th>编剧</th>\n",
       "      <th>主演</th>\n",
       "      <th>类型</th>\n",
       "      <th>国家/地区</th>\n",
       "      <th>语言</th>\n",
       "      <th>时长(分钟)</th>\n",
       "    </tr>\n",
       "  </thead>\n",
       "  <tbody>\n",
       "    <tr>\n",
       "      <th>0</th>\n",
       "      <td>肖申克的救赎</td>\n",
       "      <td>1994</td>\n",
       "      <td>9.7</td>\n",
       "      <td>2317937.0</td>\n",
       "      <td>弗兰克·德拉邦特</td>\n",
       "      <td>弗兰克·德拉...</td>\n",
       "      <td>蒂姆·罗宾斯...</td>\n",
       "      <td>剧情 / 犯罪</td>\n",
       "      <td>美国</td>\n",
       "      <td>英语</td>\n",
       "      <td>142.0</td>\n",
       "    </tr>\n",
       "    <tr>\n",
       "      <th>1</th>\n",
       "      <td>霸王别姬</td>\n",
       "      <td>1993</td>\n",
       "      <td>9.6</td>\n",
       "      <td>1720638.0</td>\n",
       "      <td>陈凯歌</td>\n",
       "      <td>芦苇 / 李碧华</td>\n",
       "      <td>张国荣 / ...</td>\n",
       "      <td>剧情 / 爱...</td>\n",
       "      <td>中国</td>\n",
       "      <td>汉语普通话</td>\n",
       "      <td>171.0</td>\n",
       "    </tr>\n",
       "    <tr>\n",
       "      <th>2</th>\n",
       "      <td>阿甘正传</td>\n",
       "      <td>1994</td>\n",
       "      <td>9.5</td>\n",
       "      <td>1743966.0</td>\n",
       "      <td>罗伯特·泽米吉斯</td>\n",
       "      <td>艾瑞克·罗斯...</td>\n",
       "      <td>汤姆·汉克斯...</td>\n",
       "      <td>剧情 / 爱情</td>\n",
       "      <td>美国</td>\n",
       "      <td>英语</td>\n",
       "      <td>142.0</td>\n",
       "    </tr>\n",
       "    <tr>\n",
       "      <th>3</th>\n",
       "      <td>这个杀手不太冷</td>\n",
       "      <td>1994</td>\n",
       "      <td>9.4</td>\n",
       "      <td>1922740.0</td>\n",
       "      <td>吕克·贝松</td>\n",
       "      <td>吕克·贝松</td>\n",
       "      <td>让·雷诺 /...</td>\n",
       "      <td>剧情 / 动...</td>\n",
       "      <td>法国</td>\n",
       "      <td>英语</td>\n",
       "      <td>110.0</td>\n",
       "    </tr>\n",
       "    <tr>\n",
       "      <th>4</th>\n",
       "      <td>泰坦尼克号</td>\n",
       "      <td>1997</td>\n",
       "      <td>9.4</td>\n",
       "      <td>1706127.0</td>\n",
       "      <td>詹姆斯·卡梅隆</td>\n",
       "      <td>詹姆斯·卡梅隆</td>\n",
       "      <td>莱昂纳多·迪...</td>\n",
       "      <td>剧情 / 爱...</td>\n",
       "      <td>美国</td>\n",
       "      <td>英语</td>\n",
       "      <td>194.0</td>\n",
       "    </tr>\n",
       "  </tbody>\n",
       "</table>\n",
       "</div>"
      ],
      "text/plain": [
       "        片名  上映年份   评分       评价人数        导演         编剧         主演         类型  \\\n",
       "0   肖申克的救赎  1994  9.7  2317937.0  弗兰克·德拉邦特  弗兰克·德拉...  蒂姆·罗宾斯...    剧情 / 犯罪   \n",
       "1     霸王别姬  1993  9.6  1720638.0       陈凯歌   芦苇 / 李碧华  张国荣 / ...  剧情 / 爱...   \n",
       "2     阿甘正传  1994  9.5  1743966.0  罗伯特·泽米吉斯  艾瑞克·罗斯...  汤姆·汉克斯...    剧情 / 爱情   \n",
       "3  这个杀手不太冷  1994  9.4  1922740.0     吕克·贝松      吕克·贝松  让·雷诺 /...  剧情 / 动...   \n",
       "4    泰坦尼克号  1997  9.4  1706127.0   詹姆斯·卡梅隆    詹姆斯·卡梅隆  莱昂纳多·迪...  剧情 / 爱...   \n",
       "\n",
       "  国家/地区     语言  时长(分钟)  \n",
       "0    美国     英语   142.0  \n",
       "1    中国  汉语普通话   171.0  \n",
       "2    美国     英语   142.0  \n",
       "3    法国    英语    110.0  \n",
       "4    美国    英语    194.0  "
      ]
     },
     "execution_count": 1,
     "metadata": {},
     "output_type": "execute_result"
    }
   ],
   "source": [
    "import pandas as pd\n",
    "pd.set_option('display.max_colwidth',10)\n",
    "df = pd.read_excel(\"TOP250.xlsx\")\n",
    "df.head()"
   ]
  },
  {
   "cell_type": "markdown",
   "metadata": {},
   "source": [
    "## 数据维度\n",
    "\n",
    "先看看数据多少行，多少列，对接下来的处理量心里有个数"
   ]
  },
  {
   "cell_type": "code",
   "execution_count": 2,
   "metadata": {},
   "outputs": [
    {
     "data": {
      "text/plain": [
       "(262, 11)"
      ]
     },
     "execution_count": 2,
     "metadata": {},
     "output_type": "execute_result"
    }
   ],
   "source": [
    "df.shape"
   ]
  },
  {
   "cell_type": "markdown",
   "metadata": {},
   "source": [
    "## 数据抽样\n",
    "\n",
    "也就是随机查看一个样本，大致了解下数据"
   ]
  },
  {
   "cell_type": "code",
   "execution_count": 3,
   "metadata": {},
   "outputs": [
    {
     "data": {
      "text/html": [
       "<div>\n",
       "<style scoped>\n",
       "    .dataframe tbody tr th:only-of-type {\n",
       "        vertical-align: middle;\n",
       "    }\n",
       "\n",
       "    .dataframe tbody tr th {\n",
       "        vertical-align: top;\n",
       "    }\n",
       "\n",
       "    .dataframe thead th {\n",
       "        text-align: right;\n",
       "    }\n",
       "</style>\n",
       "<table border=\"1\" class=\"dataframe\">\n",
       "  <thead>\n",
       "    <tr style=\"text-align: right;\">\n",
       "      <th></th>\n",
       "      <th>片名</th>\n",
       "      <th>上映年份</th>\n",
       "      <th>评分</th>\n",
       "      <th>评价人数</th>\n",
       "      <th>导演</th>\n",
       "      <th>编剧</th>\n",
       "      <th>主演</th>\n",
       "      <th>类型</th>\n",
       "      <th>国家/地区</th>\n",
       "      <th>语言</th>\n",
       "      <th>时长(分钟)</th>\n",
       "    </tr>\n",
       "  </thead>\n",
       "  <tbody>\n",
       "    <tr>\n",
       "      <th>149</th>\n",
       "      <td>哈利·波特与密室</td>\n",
       "      <td>2002</td>\n",
       "      <td>8.7</td>\n",
       "      <td>521179.0</td>\n",
       "      <td>克里斯·哥伦布</td>\n",
       "      <td>史蒂夫·克洛...</td>\n",
       "      <td>丹尼尔·雷德...</td>\n",
       "      <td>奇幻 / 冒险</td>\n",
       "      <td>美国</td>\n",
       "      <td>英语</td>\n",
       "      <td>161.0</td>\n",
       "    </tr>\n",
       "  </tbody>\n",
       "</table>\n",
       "</div>"
      ],
      "text/plain": [
       "           片名  上映年份   评分      评价人数       导演         编剧         主演       类型  \\\n",
       "149  哈利·波特与密室  2002  8.7  521179.0  克里斯·哥伦布  史蒂夫·克洛...  丹尼尔·雷德...  奇幻 / 冒险   \n",
       "\n",
       "    国家/地区  语言  时长(分钟)  \n",
       "149    美国  英语   161.0  "
      ]
     },
     "execution_count": 3,
     "metadata": {},
     "output_type": "execute_result"
    }
   ],
   "source": [
    "df.sample()\n",
    "\n",
    "# df.sample(n) #抽n个样本"
   ]
  },
  {
   "cell_type": "markdown",
   "metadata": {},
   "source": [
    "## 查看数据前 3 行\n",
    "\n",
    "检查头尾数据，更详细的看一下数据"
   ]
  },
  {
   "cell_type": "code",
   "execution_count": 4,
   "metadata": {},
   "outputs": [
    {
     "data": {
      "text/html": [
       "<div>\n",
       "<style scoped>\n",
       "    .dataframe tbody tr th:only-of-type {\n",
       "        vertical-align: middle;\n",
       "    }\n",
       "\n",
       "    .dataframe tbody tr th {\n",
       "        vertical-align: top;\n",
       "    }\n",
       "\n",
       "    .dataframe thead th {\n",
       "        text-align: right;\n",
       "    }\n",
       "</style>\n",
       "<table border=\"1\" class=\"dataframe\">\n",
       "  <thead>\n",
       "    <tr style=\"text-align: right;\">\n",
       "      <th></th>\n",
       "      <th>片名</th>\n",
       "      <th>上映年份</th>\n",
       "      <th>评分</th>\n",
       "      <th>评价人数</th>\n",
       "      <th>导演</th>\n",
       "      <th>编剧</th>\n",
       "      <th>主演</th>\n",
       "      <th>类型</th>\n",
       "      <th>国家/地区</th>\n",
       "      <th>语言</th>\n",
       "      <th>时长(分钟)</th>\n",
       "    </tr>\n",
       "  </thead>\n",
       "  <tbody>\n",
       "    <tr>\n",
       "      <th>0</th>\n",
       "      <td>肖申克的救赎</td>\n",
       "      <td>1994</td>\n",
       "      <td>9.7</td>\n",
       "      <td>2317937.0</td>\n",
       "      <td>弗兰克·德拉邦特</td>\n",
       "      <td>弗兰克·德拉...</td>\n",
       "      <td>蒂姆·罗宾斯...</td>\n",
       "      <td>剧情 / 犯罪</td>\n",
       "      <td>美国</td>\n",
       "      <td>英语</td>\n",
       "      <td>142.0</td>\n",
       "    </tr>\n",
       "    <tr>\n",
       "      <th>1</th>\n",
       "      <td>霸王别姬</td>\n",
       "      <td>1993</td>\n",
       "      <td>9.6</td>\n",
       "      <td>1720638.0</td>\n",
       "      <td>陈凯歌</td>\n",
       "      <td>芦苇 / 李碧华</td>\n",
       "      <td>张国荣 / ...</td>\n",
       "      <td>剧情 / 爱...</td>\n",
       "      <td>中国</td>\n",
       "      <td>汉语普通话</td>\n",
       "      <td>171.0</td>\n",
       "    </tr>\n",
       "    <tr>\n",
       "      <th>2</th>\n",
       "      <td>阿甘正传</td>\n",
       "      <td>1994</td>\n",
       "      <td>9.5</td>\n",
       "      <td>1743966.0</td>\n",
       "      <td>罗伯特·泽米吉斯</td>\n",
       "      <td>艾瑞克·罗斯...</td>\n",
       "      <td>汤姆·汉克斯...</td>\n",
       "      <td>剧情 / 爱情</td>\n",
       "      <td>美国</td>\n",
       "      <td>英语</td>\n",
       "      <td>142.0</td>\n",
       "    </tr>\n",
       "  </tbody>\n",
       "</table>\n",
       "</div>"
      ],
      "text/plain": [
       "       片名  上映年份   评分       评价人数        导演         编剧         主演         类型  \\\n",
       "0  肖申克的救赎  1994  9.7  2317937.0  弗兰克·德拉邦特  弗兰克·德拉...  蒂姆·罗宾斯...    剧情 / 犯罪   \n",
       "1    霸王别姬  1993  9.6  1720638.0       陈凯歌   芦苇 / 李碧华  张国荣 / ...  剧情 / 爱...   \n",
       "2    阿甘正传  1994  9.5  1743966.0  罗伯特·泽米吉斯  艾瑞克·罗斯...  汤姆·汉克斯...    剧情 / 爱情   \n",
       "\n",
       "  国家/地区     语言  时长(分钟)  \n",
       "0    美国     英语   142.0  \n",
       "1    中国  汉语普通话   171.0  \n",
       "2    美国     英语   142.0  "
      ]
     },
     "execution_count": 4,
     "metadata": {},
     "output_type": "execute_result"
    }
   ],
   "source": [
    "df.head(3)\n",
    "# df.tail() # 查看后5行"
   ]
  },
  {
   "cell_type": "markdown",
   "metadata": {},
   "source": [
    "## 查看数据基本信息\n",
    "\n",
    "看看数据类型，有无缺失值什么的"
   ]
  },
  {
   "cell_type": "code",
   "execution_count": 5,
   "metadata": {},
   "outputs": [
    {
     "name": "stdout",
     "output_type": "stream",
     "text": [
      "<class 'pandas.core.frame.DataFrame'>\n",
      "RangeIndex: 262 entries, 0 to 261\n",
      "Data columns (total 11 columns):\n",
      " #   Column  Non-Null Count  Dtype  \n",
      "---  ------  --------------  -----  \n",
      " 0   片名      262 non-null    object \n",
      " 1   上映年份    262 non-null    int64  \n",
      " 2   评分      257 non-null    float64\n",
      " 3   评价人数    259 non-null    float64\n",
      " 4   导演      262 non-null    object \n",
      " 5   编剧      262 non-null    object \n",
      " 6   主演      262 non-null    object \n",
      " 7   类型      262 non-null    object \n",
      " 8   国家/地区   256 non-null    object \n",
      " 9   语言      256 non-null    object \n",
      " 10  时长(分钟)  256 non-null    float64\n",
      "dtypes: float64(3), int64(1), object(7)\n",
      "memory usage: 22.6+ KB\n"
     ]
    }
   ],
   "source": [
    "df.info()"
   ]
  },
  {
   "cell_type": "markdown",
   "metadata": {},
   "source": [
    "## 查看数值数据统计信息\n",
    "\n",
    "查看 **数值型** 列的统计信息，计数、均值什么的"
   ]
  },
  {
   "cell_type": "code",
   "execution_count": 6,
   "metadata": {},
   "outputs": [
    {
     "data": {
      "text/html": [
       "<div>\n",
       "<style scoped>\n",
       "    .dataframe tbody tr th:only-of-type {\n",
       "        vertical-align: middle;\n",
       "    }\n",
       "\n",
       "    .dataframe tbody tr th {\n",
       "        vertical-align: top;\n",
       "    }\n",
       "\n",
       "    .dataframe thead th {\n",
       "        text-align: right;\n",
       "    }\n",
       "</style>\n",
       "<table border=\"1\" class=\"dataframe\">\n",
       "  <thead>\n",
       "    <tr style=\"text-align: right;\">\n",
       "      <th></th>\n",
       "      <th>count</th>\n",
       "      <th>mean</th>\n",
       "      <th>std</th>\n",
       "      <th>min</th>\n",
       "      <th>25%</th>\n",
       "      <th>50%</th>\n",
       "      <th>75%</th>\n",
       "      <th>max</th>\n",
       "    </tr>\n",
       "  </thead>\n",
       "  <tbody>\n",
       "    <tr>\n",
       "      <th>上映年份</th>\n",
       "      <td>262.0</td>\n",
       "      <td>2000.60</td>\n",
       "      <td>15.57</td>\n",
       "      <td>1931.0</td>\n",
       "      <td>1995.00</td>\n",
       "      <td>2004.0</td>\n",
       "      <td>2011.0</td>\n",
       "      <td>2019.0</td>\n",
       "    </tr>\n",
       "    <tr>\n",
       "      <th>评分</th>\n",
       "      <td>257.0</td>\n",
       "      <td>8.91</td>\n",
       "      <td>0.26</td>\n",
       "      <td>8.4</td>\n",
       "      <td>8.70</td>\n",
       "      <td>8.9</td>\n",
       "      <td>9.1</td>\n",
       "      <td>9.7</td>\n",
       "    </tr>\n",
       "    <tr>\n",
       "      <th>评价人数</th>\n",
       "      <td>259.0</td>\n",
       "      <td>577631.72</td>\n",
       "      <td>367670.85</td>\n",
       "      <td>106462.0</td>\n",
       "      <td>335307.50</td>\n",
       "      <td>479949.0</td>\n",
       "      <td>693230.5</td>\n",
       "      <td>2317937.0</td>\n",
       "    </tr>\n",
       "    <tr>\n",
       "      <th>时长(分钟)</th>\n",
       "      <td>256.0</td>\n",
       "      <td>121.83</td>\n",
       "      <td>28.08</td>\n",
       "      <td>45.0</td>\n",
       "      <td>101.75</td>\n",
       "      <td>118.0</td>\n",
       "      <td>136.0</td>\n",
       "      <td>237.0</td>\n",
       "    </tr>\n",
       "  </tbody>\n",
       "</table>\n",
       "</div>"
      ],
      "text/plain": [
       "        count       mean        std       min        25%       50%       75%  \\\n",
       "上映年份    262.0    2000.60      15.57    1931.0    1995.00    2004.0    2011.0   \n",
       "评分      257.0       8.91       0.26       8.4       8.70       8.9       9.1   \n",
       "评价人数    259.0  577631.72  367670.85  106462.0  335307.50  479949.0  693230.5   \n",
       "时长(分钟)  256.0     121.83      28.08      45.0     101.75     118.0     136.0   \n",
       "\n",
       "              max  \n",
       "上映年份       2019.0  \n",
       "评分            9.7  \n",
       "评价人数    2317937.0  \n",
       "时长(分钟)      237.0  "
      ]
     },
     "execution_count": 6,
     "metadata": {},
     "output_type": "execute_result"
    }
   ],
   "source": [
    "df.describe().round(2).T"
   ]
  },
  {
   "cell_type": "markdown",
   "metadata": {},
   "source": [
    "## 查看离散数据统计信息\n",
    "\n",
    "查看 **离散型** 列的统计信息，计数、频率什么"
   ]
  },
  {
   "cell_type": "code",
   "execution_count": 7,
   "metadata": {},
   "outputs": [
    {
     "data": {
      "text/html": [
       "<div>\n",
       "<style scoped>\n",
       "    .dataframe tbody tr th:only-of-type {\n",
       "        vertical-align: middle;\n",
       "    }\n",
       "\n",
       "    .dataframe tbody tr th {\n",
       "        vertical-align: top;\n",
       "    }\n",
       "\n",
       "    .dataframe thead th {\n",
       "        text-align: right;\n",
       "    }\n",
       "</style>\n",
       "<table border=\"1\" class=\"dataframe\">\n",
       "  <thead>\n",
       "    <tr style=\"text-align: right;\">\n",
       "      <th></th>\n",
       "      <th>片名</th>\n",
       "      <th>导演</th>\n",
       "      <th>编剧</th>\n",
       "      <th>主演</th>\n",
       "      <th>类型</th>\n",
       "      <th>国家/地区</th>\n",
       "      <th>语言</th>\n",
       "    </tr>\n",
       "  </thead>\n",
       "  <tbody>\n",
       "    <tr>\n",
       "      <th>count</th>\n",
       "      <td>262</td>\n",
       "      <td>262</td>\n",
       "      <td>262</td>\n",
       "      <td>262</td>\n",
       "      <td>262</td>\n",
       "      <td>256</td>\n",
       "      <td>256</td>\n",
       "    </tr>\n",
       "    <tr>\n",
       "      <th>unique</th>\n",
       "      <td>249</td>\n",
       "      <td>180</td>\n",
       "      <td>221</td>\n",
       "      <td>249</td>\n",
       "      <td>120</td>\n",
       "      <td>20</td>\n",
       "      <td>26</td>\n",
       "    </tr>\n",
       "    <tr>\n",
       "      <th>top</th>\n",
       "      <td>无人知晓</td>\n",
       "      <td>是枝裕和</td>\n",
       "      <td>是枝裕和</td>\n",
       "      <td>柳乐优弥 /...</td>\n",
       "      <td>剧情</td>\n",
       "      <td>美国</td>\n",
       "      <td>英语</td>\n",
       "    </tr>\n",
       "    <tr>\n",
       "      <th>freq</th>\n",
       "      <td>5</td>\n",
       "      <td>8</td>\n",
       "      <td>7</td>\n",
       "      <td>5</td>\n",
       "      <td>24</td>\n",
       "      <td>111</td>\n",
       "      <td>72</td>\n",
       "    </tr>\n",
       "  </tbody>\n",
       "</table>\n",
       "</div>"
      ],
      "text/plain": [
       "          片名    导演    编剧         主演   类型 国家/地区   语言\n",
       "count    262   262   262        262  262   256  256\n",
       "unique   249   180   221        249  120    20   26\n",
       "top     无人知晓  是枝裕和  是枝裕和  柳乐优弥 /...   剧情    美国  英语 \n",
       "freq       5     8     7          5   24   111   72"
      ]
     },
     "execution_count": 7,
     "metadata": {},
     "output_type": "execute_result"
    }
   ],
   "source": [
    "df.describe(include=['O'])"
   ]
  }
 ],
 "metadata": {
  "celltoolbar": "Tags",
  "kernelspec": {
   "display_name": "Python 3",
   "language": "python",
   "name": "python3"
  },
  "language_info": {
   "codemirror_mode": {
    "name": "ipython",
    "version": 3
   },
   "file_extension": ".py",
   "mimetype": "text/x-python",
   "name": "python",
   "nbconvert_exporter": "python",
   "pygments_lexer": "ipython3",
   "version": "3.8.5"
  },
  "toc": {
   "base_numbering": 1,
   "nav_menu": {},
   "number_sections": false,
   "sideBar": true,
   "skip_h1_title": false,
   "title_cell": "Table of Contents",
   "title_sidebar": "Contents",
   "toc_cell": false,
   "toc_position": {
    "height": "calc(100% - 180px)",
    "left": "10px",
    "top": "150px",
    "width": "384px"
   },
   "toc_section_display": true,
   "toc_window_display": true
  }
 },
 "nbformat": 4,
 "nbformat_minor": 4
}